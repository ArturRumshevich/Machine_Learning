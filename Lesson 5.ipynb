{
 "cells": [
  {
   "cell_type": "code",
   "execution_count": 1,
   "id": "9fd47273",
   "metadata": {},
   "outputs": [],
   "source": [
    "import pandas as pd \n",
    "import numpy as np\n",
    "import math \n",
    "import matplotlib.pyplot as plt \n",
    "import seaborn as sns"
   ]
  },
  {
   "cell_type": "code",
   "execution_count": 3,
   "id": "a7e41173",
   "metadata": {},
   "outputs": [
    {
     "name": "stdout",
     "output_type": "stream",
     "text": [
      "Минимум функции: -0.9452851893035029\n",
      "Значение функции в минимуме: 0.0029937105095535488\n"
     ]
    }
   ],
   "source": [
    "def gradient_descent(f, x0, alpha, epsilon):\n",
    "    x_prev = x0\n",
    "    while abs(f(x_prev) - f(x_prev - alpha)) > epsilon:\n",
    "        gradient = (f(x_prev) - f(x_prev - alpha)) / alpha\n",
    "        x_prev = x_prev - alpha * gradient\n",
    "    return x_prev\n",
    "\n",
    "minimum = gradient_descent(f, x0, alpha, epsilon)\n",
    "\n",
    "print(f\"Минимум функции: {minimum}\")\n",
    "print(f\"Значение функции в минимуме: {f(minimum)}\")"
   ]
  },
  {
   "cell_type": "code",
   "execution_count": null,
   "id": "e04eb069",
   "metadata": {},
   "outputs": [],
   "source": []
  },
  {
   "cell_type": "code",
   "execution_count": 7,
   "id": "eff3067b",
   "metadata": {},
   "outputs": [],
   "source": [
    "def f(x, y):\n",
    "  \n",
    "  return 3*x**2 + 2*y**2+15\n"
   ]
  },
  {
   "cell_type": "code",
   "execution_count": 8,
   "id": "68de2f83",
   "metadata": {},
   "outputs": [],
   "source": [
    "x0 = 1  # Начальная точка x\n",
    "y0 = 1  # Начальная точка y\n",
    "alpha = 0.1  # Шаг обучения\n",
    "epsilon = 0.001  # Точность\n"
   ]
  },
  {
   "cell_type": "code",
   "execution_count": 9,
   "id": "e1114997",
   "metadata": {},
   "outputs": [
    {
     "name": "stdout",
     "output_type": "stream",
     "text": [
      "Минимум функции: (0.05001593835519991, 0.052067943219201496)\n",
      "Значение функции в минимуме: 15.01292692369081\n"
     ]
    }
   ],
   "source": [
    "def gradient_descent(f, x0, y0, alpha, epsilon):\n",
    "    x_prev, y_prev = x0, y0\n",
    "    while abs(f(x_prev, y_prev) - f(x_prev - alpha, y_prev)) > epsilon or abs(f(x_prev, y_prev) - f(x_prev, y_prev - alpha)) > epsilon:\n",
    "        gradient_x = (f(x_prev, y_prev) - f(x_prev - alpha, y_prev)) / alpha\n",
    "        gradient_y = (f(x_prev, y_prev) - f(x_prev, y_prev - alpha)) / alpha\n",
    "        x_prev = x_prev - alpha * gradient_x\n",
    "        y_prev = y_prev - alpha * gradient_y\n",
    "    return x_prev, y_prev\n",
    "\n",
    "minimum_x, minimum_y = gradient_descent(f, x0, y0, alpha, epsilon)\n",
    "\n",
    "print(f\"Минимум функции: ({minimum_x}, {minimum_y})\")\n",
    "print(f\"Значение функции в минимуме: {f(minimum_x, minimum_y)}\")\n"
   ]
  },
  {
   "cell_type": "code",
   "execution_count": null,
   "id": "af53ffee",
   "metadata": {},
   "outputs": [],
   "source": []
  },
  {
   "cell_type": "code",
   "execution_count": null,
   "id": "eacfafcf",
   "metadata": {},
   "outputs": [],
   "source": []
  },
  {
   "cell_type": "code",
   "execution_count": null,
   "id": "986656f8",
   "metadata": {},
   "outputs": [],
   "source": []
  }
 ],
 "metadata": {
  "kernelspec": {
   "display_name": "Python 3 (ipykernel)",
   "language": "python",
   "name": "python3"
  },
  "language_info": {
   "codemirror_mode": {
    "name": "ipython",
    "version": 3
   },
   "file_extension": ".py",
   "mimetype": "text/x-python",
   "name": "python",
   "nbconvert_exporter": "python",
   "pygments_lexer": "ipython3",
   "version": "3.11.5"
  }
 },
 "nbformat": 4,
 "nbformat_minor": 5
}
